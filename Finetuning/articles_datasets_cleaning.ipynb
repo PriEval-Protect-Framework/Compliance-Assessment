{
 "cells": [
  {
   "cell_type": "code",
   "execution_count": 2,
   "metadata": {},
   "outputs": [],
   "source": [
    "import pandas as pd"
   ]
  },
  {
   "cell_type": "code",
   "execution_count": null,
   "metadata": {},
   "outputs": [],
   "source": [
    "df1= pd.read_json('data/gdpr/articles/gdpr_articles_recitals.jsonl', lines=True)  \n",
    "df2= pd.read_csv('data/gdpr/articles/GDPR_10QA_dataset_filtered.csv')\n",
    "df3= pd.read_csv('data/gdpr/articles/qa_GDPR_dataset.csv')"
   ]
  },
  {
   "cell_type": "markdown",
   "metadata": {},
   "source": [
    "# Dataset 1: GDPR Article Number+Title - Entire Article"
   ]
  },
  {
   "cell_type": "code",
   "execution_count": 57,
   "metadata": {},
   "outputs": [
    {
     "data": {
      "text/html": [
       "<div>\n",
       "<style scoped>\n",
       "    .dataframe tbody tr th:only-of-type {\n",
       "        vertical-align: middle;\n",
       "    }\n",
       "\n",
       "    .dataframe tbody tr th {\n",
       "        vertical-align: top;\n",
       "    }\n",
       "\n",
       "    .dataframe thead th {\n",
       "        text-align: right;\n",
       "    }\n",
       "</style>\n",
       "<table border=\"1\" class=\"dataframe\">\n",
       "  <thead>\n",
       "    <tr style=\"text-align: right;\">\n",
       "      <th></th>\n",
       "      <th>input-text</th>\n",
       "      <th>output-text</th>\n",
       "    </tr>\n",
       "  </thead>\n",
       "  <tbody>\n",
       "    <tr>\n",
       "      <th>0</th>\n",
       "      <td>Article 1 Subject-matter and objectives</td>\n",
       "      <td>(1) This Regulation lays down rules relating t...</td>\n",
       "    </tr>\n",
       "    <tr>\n",
       "      <th>1</th>\n",
       "      <td>Article 2 Material scope</td>\n",
       "      <td>(1) This Regulation applies to the processing ...</td>\n",
       "    </tr>\n",
       "    <tr>\n",
       "      <th>2</th>\n",
       "      <td>Article 3 Territorial scope</td>\n",
       "      <td>(1) This Regulation applies to the processing ...</td>\n",
       "    </tr>\n",
       "    <tr>\n",
       "      <th>3</th>\n",
       "      <td>Article 4 Definitions</td>\n",
       "      <td>For the purposes of this Regulation: (1) ‘pers...</td>\n",
       "    </tr>\n",
       "    <tr>\n",
       "      <th>4</th>\n",
       "      <td>Article 5 Principles relating to processing of...</td>\n",
       "      <td>(1) Personal data shall be:\\n        \\n- proce...</td>\n",
       "    </tr>\n",
       "  </tbody>\n",
       "</table>\n",
       "</div>"
      ],
      "text/plain": [
       "                                          input-text  \\\n",
       "0            Article 1 Subject-matter and objectives   \n",
       "1                           Article 2 Material scope   \n",
       "2                        Article 3 Territorial scope   \n",
       "3                              Article 4 Definitions   \n",
       "4  Article 5 Principles relating to processing of...   \n",
       "\n",
       "                                         output-text  \n",
       "0  (1) This Regulation lays down rules relating t...  \n",
       "1  (1) This Regulation applies to the processing ...  \n",
       "2  (1) This Regulation applies to the processing ...  \n",
       "3  For the purposes of this Regulation: (1) ‘pers...  \n",
       "4  (1) Personal data shall be:\\n        \\n- proce...  "
      ]
     },
     "execution_count": 57,
     "metadata": {},
     "output_type": "execute_result"
    }
   ],
   "source": [
    "df1.head()"
   ]
  },
  {
   "cell_type": "markdown",
   "metadata": {},
   "source": [
    "**format to { \"text\": article/recital + : content}**"
   ]
  },
  {
   "cell_type": "code",
   "execution_count": null,
   "metadata": {},
   "outputs": [
    {
     "name": "stdout",
     "output_type": "stream",
     "text": [
      "JSONL file has been created with formatted text.\n"
     ]
    }
   ],
   "source": [
    "df1['output-text'] = df1['output-text'].str.replace(\"\\n\", \" \", regex=False)\n",
    "\n",
    "df1['text'] = df1.apply(lambda row: f'{{\"text\": \"{row[\"input-text\"]}: {row[\"output-text\"]}\"}}', axis=1)\n",
    "\n",
    "with open('data/gdpr/articles/preprocessed/gdpr_articles_recitals_preprocessed.jsonl', 'w') as file:\n",
    "    for item in df1['text']:\n",
    "        file.write(item + '\\n')\n",
    "\n",
    "print(\"JSONL file has been created with formatted text.\")"
   ]
  },
  {
   "cell_type": "markdown",
   "metadata": {},
   "source": [
    "# Dataset 2: GDPR csv"
   ]
  },
  {
   "cell_type": "markdown",
   "metadata": {},
   "source": [
    "Article Number, Article Name, Chapter Numbers, Chapter Names, Information "
   ]
  },
  {
   "cell_type": "code",
   "execution_count": 59,
   "metadata": {},
   "outputs": [
    {
     "data": {
      "text/html": [
       "<div>\n",
       "<style scoped>\n",
       "    .dataframe tbody tr th:only-of-type {\n",
       "        vertical-align: middle;\n",
       "    }\n",
       "\n",
       "    .dataframe tbody tr th {\n",
       "        vertical-align: top;\n",
       "    }\n",
       "\n",
       "    .dataframe thead th {\n",
       "        text-align: right;\n",
       "    }\n",
       "</style>\n",
       "<table border=\"1\" class=\"dataframe\">\n",
       "  <thead>\n",
       "    <tr style=\"text-align: right;\">\n",
       "      <th></th>\n",
       "      <th>Content</th>\n",
       "      <th>Article Number</th>\n",
       "      <th>Article Name</th>\n",
       "      <th>Chapter Number</th>\n",
       "      <th>Chapter Name</th>\n",
       "      <th>Article Word Count</th>\n",
       "      <th>Question</th>\n",
       "      <th>Answer</th>\n",
       "      <th>Question Word Count</th>\n",
       "      <th>Answer Word Count</th>\n",
       "    </tr>\n",
       "  </thead>\n",
       "  <tbody>\n",
       "    <tr>\n",
       "      <th>0</th>\n",
       "      <td>\\nArticle 1\\nSubject-matter and objectives\\n\\n...</td>\n",
       "      <td>1</td>\n",
       "      <td>Subject-matter and objectives</td>\n",
       "      <td>1</td>\n",
       "      <td>General provisions</td>\n",
       "      <td>91</td>\n",
       "      <td>What is the purpose of GDPR?</td>\n",
       "      <td>The purpose of GDPR is to lay down rules relat...</td>\n",
       "      <td>6</td>\n",
       "      <td>34</td>\n",
       "    </tr>\n",
       "    <tr>\n",
       "      <th>1</th>\n",
       "      <td>\\nArticle 2\\nMaterial scope\\n\\n1. This Regulat...</td>\n",
       "      <td>2</td>\n",
       "      <td>Material scope</td>\n",
       "      <td>1</td>\n",
       "      <td>General provisions</td>\n",
       "      <td>232</td>\n",
       "      <td>What is the scope of GDPR?</td>\n",
       "      <td>GDPR applies to the processing of personal dat...</td>\n",
       "      <td>6</td>\n",
       "      <td>43</td>\n",
       "    </tr>\n",
       "    <tr>\n",
       "      <th>2</th>\n",
       "      <td>\\nArticle 3\\nTerritorial scope\\n\\n1. This Regu...</td>\n",
       "      <td>3</td>\n",
       "      <td>Territorial scope</td>\n",
       "      <td>1</td>\n",
       "      <td>General provisions</td>\n",
       "      <td>154</td>\n",
       "      <td>What is the territorial scope of GDPR?</td>\n",
       "      <td>GDPR applies to the processing of personal dat...</td>\n",
       "      <td>7</td>\n",
       "      <td>38</td>\n",
       "    </tr>\n",
       "    <tr>\n",
       "      <th>3</th>\n",
       "      <td>\\nArticle 4\\nDefinitions\\n\\nFor the purposes o...</td>\n",
       "      <td>4</td>\n",
       "      <td>Definitions</td>\n",
       "      <td>1</td>\n",
       "      <td>General provisions</td>\n",
       "      <td>935</td>\n",
       "      <td>What is the definition of personal data accord...</td>\n",
       "      <td>Personal data means any information relating t...</td>\n",
       "      <td>10</td>\n",
       "      <td>69</td>\n",
       "    </tr>\n",
       "    <tr>\n",
       "      <th>4</th>\n",
       "      <td>\\nArticle 4 (continued)\\nDefinitions\\n\\nFor th...</td>\n",
       "      <td>4</td>\n",
       "      <td>Definitions</td>\n",
       "      <td>1</td>\n",
       "      <td>General provisions</td>\n",
       "      <td>405</td>\n",
       "      <td>What is the definition of 'group of undertakin...</td>\n",
       "      <td>For the purposes of this Regulation, 'group of...</td>\n",
       "      <td>11</td>\n",
       "      <td>17</td>\n",
       "    </tr>\n",
       "  </tbody>\n",
       "</table>\n",
       "</div>"
      ],
      "text/plain": [
       "                                             Content  Article Number  \\\n",
       "0  \\nArticle 1\\nSubject-matter and objectives\\n\\n...               1   \n",
       "1  \\nArticle 2\\nMaterial scope\\n\\n1. This Regulat...               2   \n",
       "2  \\nArticle 3\\nTerritorial scope\\n\\n1. This Regu...               3   \n",
       "3  \\nArticle 4\\nDefinitions\\n\\nFor the purposes o...               4   \n",
       "4  \\nArticle 4 (continued)\\nDefinitions\\n\\nFor th...               4   \n",
       "\n",
       "                    Article Name  Chapter Number        Chapter Name  \\\n",
       "0  Subject-matter and objectives               1  General provisions   \n",
       "1                 Material scope               1  General provisions   \n",
       "2              Territorial scope               1  General provisions   \n",
       "3                    Definitions               1  General provisions   \n",
       "4                    Definitions               1  General provisions   \n",
       "\n",
       "   Article Word Count                                           Question  \\\n",
       "0                  91                       What is the purpose of GDPR?   \n",
       "1                 232                         What is the scope of GDPR?   \n",
       "2                 154             What is the territorial scope of GDPR?   \n",
       "3                 935  What is the definition of personal data accord...   \n",
       "4                 405  What is the definition of 'group of undertakin...   \n",
       "\n",
       "                                              Answer  Question Word Count  \\\n",
       "0  The purpose of GDPR is to lay down rules relat...                    6   \n",
       "1  GDPR applies to the processing of personal dat...                    6   \n",
       "2  GDPR applies to the processing of personal dat...                    7   \n",
       "3  Personal data means any information relating t...                   10   \n",
       "4  For the purposes of this Regulation, 'group of...                   11   \n",
       "\n",
       "   Answer Word Count  \n",
       "0                 34  \n",
       "1                 43  \n",
       "2                 38  \n",
       "3                 69  \n",
       "4                 17  "
      ]
     },
     "execution_count": 59,
     "metadata": {},
     "output_type": "execute_result"
    }
   ],
   "source": [
    "df2.head()"
   ]
  },
  {
   "cell_type": "code",
   "execution_count": 60,
   "metadata": {},
   "outputs": [
    {
     "data": {
      "text/plain": [
       "array(['Content', 'Article Number', 'Article Name', 'Chapter Number',\n",
       "       'Chapter Name', 'Article Word Count', 'Question', 'Answer',\n",
       "       'Question Word Count', 'Answer Word Count'], dtype=object)"
      ]
     },
     "execution_count": 60,
     "metadata": {},
     "output_type": "execute_result"
    }
   ],
   "source": [
    "df2.columns.values"
   ]
  },
  {
   "cell_type": "code",
   "execution_count": 61,
   "metadata": {},
   "outputs": [],
   "source": [
    "df3_QA= df2[['Article Number', 'Article Name', 'Chapter Number', 'Chapter Name', 'Question', 'Answer']]\n",
    "df2=df2[['Article Number', 'Article Name', 'Chapter Number', 'Chapter Name', 'Content']]"
   ]
  },
  {
   "cell_type": "code",
   "execution_count": null,
   "metadata": {},
   "outputs": [
    {
     "name": "stdout",
     "output_type": "stream",
     "text": [
      "JSONL file has been created with formatted text.\n"
     ]
    }
   ],
   "source": [
    "df2['Content'] = df2['Content'].str.replace(\"\\n\", \" \", regex=False)\n",
    "\n",
    "df2['text'] = df2.apply(lambda row: f'{{\"text\": \"Article {row[\"Article Number\"]} {row[\"Article Name\"]}, '\n",
    "                                    f'Chapter {row[\"Chapter Number\"]} {row[\"Chapter Name\"]}: {row[\"Content\"]}\"}}', axis=1)\n",
    "\n",
    "with open('data/gdpr/articles/preprocessed/gdpr_article_chapters_content_preprocessed.jsonl', 'w') as file:\n",
    "    for item in df2['text']:\n",
    "        file.write(item + '\\n')\n",
    "\n",
    "print(\"JSONL file has been created with formatted text.\")\n"
   ]
  },
  {
   "cell_type": "markdown",
   "metadata": {},
   "source": [
    "# Dataset 3: QA"
   ]
  },
  {
   "cell_type": "code",
   "execution_count": 63,
   "metadata": {},
   "outputs": [],
   "source": [
    "df3_QA['text'] = df3_QA.apply(lambda row: f'{{\"question\": \"{row[\"Question\"]} reference Article {row[\"Article Number\"]} {row[\"Article Name\"]}, '\n",
    "                                    f'Chapter {row[\"Chapter Number\"]} {row[\"Chapter Name\"]}\", \"answer\": \"{row[\"Answer\"]} \"}}', axis=1)"
   ]
  },
  {
   "cell_type": "code",
   "execution_count": 64,
   "metadata": {},
   "outputs": [],
   "source": [
    "df3['text'] = df3.apply(lambda row: f'{{\"question\": \"{row[\"Question\"]}\", \"answer\": \"{row[\"Correct Answer\"]} \"}}', axis=1)"
   ]
  },
  {
   "cell_type": "code",
   "execution_count": null,
   "metadata": {},
   "outputs": [
    {
     "name": "stdout",
     "output_type": "stream",
     "text": [
      "JSONL file has been updated with formatted text from both dataframes.\n"
     ]
    }
   ],
   "source": [
    "file_path = 'data/gdpr/articles/preprocessed/gdpr_QA_preprocessed.jsonl'\n",
    "\n",
    "with open(file_path, 'w') as file:\n",
    "    for item in df3_QA['text']:\n",
    "        file.write(item + '\\n')\n",
    "\n",
    "with open(file_path, 'a') as file:  \n",
    "    for item in df3['text']:\n",
    "        file.write(item + '\\n')\n",
    "\n",
    "print(\"JSONL file has been updated with formatted text from both dataframes.\")\n"
   ]
  },
  {
   "cell_type": "markdown",
   "metadata": {},
   "source": [
    "# Dataset QA to knowedle text dataset"
   ]
  },
  {
   "cell_type": "code",
   "execution_count": null,
   "metadata": {},
   "outputs": [],
   "source": [
    "dfqa= pd.read_json('data/gdpr/articles/preprocessed/gdpr_QA_preprocessed.jsonl', lines=True)\n",
    "dfqa['text'] = dfqa['answer']\n",
    "contexts = dfqa['text'].apply(lambda x: x.split('reference')[0].strip())"
   ]
  },
  {
   "cell_type": "code",
   "execution_count": null,
   "metadata": {},
   "outputs": [
    {
     "name": "stdout",
     "output_type": "stream",
     "text": [
      "New JSONL file created successfully!\n"
     ]
    }
   ],
   "source": [
    "import json\n",
    "\n",
    "input_path = \"data/gdpr/articles/preprocessed/gdpr_QA_preprocessed.jsonl\"\n",
    "output_path = \"..ata/gdpr/articles/preprocessed/gdpr_QA_to_Text_preprocessed.jsonl\"\n",
    "\n",
    "with open(input_path, \"r\") as infile, open(output_path, \"w\") as outfile:\n",
    "    for line in infile:\n",
    "        data = json.loads(line)\n",
    "        \n",
    "        answer = data.get(\"answer\", \"\")\n",
    "        \n",
    "        question = data.get(\"question\", \"\")\n",
    "        if \"reference\" in question:\n",
    "            reference = question.split(\"reference\", 1)[1].strip()\n",
    "        else:\n",
    "            reference = \"No reference\"\n",
    "        \n",
    "        combined_text = f\"{answer} Reference : {reference}\"\n",
    "        \n",
    "        new_data = {\"text\": combined_text}\n",
    "        \n",
    "        outfile.write(json.dumps(new_data) + \"\\n\")\n",
    "\n",
    "print(\"New JSONL file created successfully!\")\n"
   ]
  }
 ],
 "metadata": {
  "kernelspec": {
   "display_name": "venv",
   "language": "python",
   "name": "python3"
  },
  "language_info": {
   "codemirror_mode": {
    "name": "ipython",
    "version": 3
   },
   "file_extension": ".py",
   "mimetype": "text/x-python",
   "name": "python",
   "nbconvert_exporter": "python",
   "pygments_lexer": "ipython3",
   "version": "3.10.15"
  }
 },
 "nbformat": 4,
 "nbformat_minor": 2
}
